{
 "cells": [
  {
   "cell_type": "markdown",
   "metadata": {},
   "source": [
    "# Tutorial 1: Python Basics\n",
    "\n",
    "In this session we will cover the basics of python, with am emphasis on some of the differences with MATLAB.  A lot of the differences are summarised in [NumPy for MATLAB users](https://docs.scipy.org/doc/numpy/user/numpy-for-matlab-users.html).\n",
    "\n",
    "## Python as a Calculator\n",
    "We can use python interpreter as a calculator."
   ]
  },
  {
   "cell_type": "code",
   "execution_count": null,
   "metadata": {},
   "outputs": [],
   "source": [
    "2/3"
   ]
  },
  {
   "cell_type": "code",
   "execution_count": null,
   "metadata": {},
   "outputs": [],
   "source": [
    "1 + 5"
   ]
  },
  {
   "cell_type": "markdown",
   "metadata": {},
   "source": [
    "There are some differences, for example to take a exponent, we use `**` instead of `^`:"
   ]
  },
  {
   "cell_type": "code",
   "execution_count": null,
   "metadata": {},
   "outputs": [],
   "source": [
    "2**3"
   ]
  },
  {
   "cell_type": "markdown",
   "metadata": {},
   "source": [
    "## Python Variables\n",
    "We can define variables in the same way as in MATLAB (although we don't need to end lines with a semi-colon)."
   ]
  },
  {
   "cell_type": "code",
   "execution_count": null,
   "metadata": {},
   "outputs": [],
   "source": [
    "x = 3\n",
    "y = 3.142\n",
    "\n",
    "# This is a comment\n",
    "print(x+y)"
   ]
  },
  {
   "cell_type": "code",
   "execution_count": null,
   "metadata": {},
   "outputs": [],
   "source": [
    "print(type(x))"
   ]
  },
  {
   "cell_type": "code",
   "execution_count": null,
   "metadata": {},
   "outputs": [],
   "source": [
    "print(type(y))\n",
    "z = 'hello'\n",
    "print(z * x)"
   ]
  },
  {
   "cell_type": "markdown",
   "metadata": {},
   "source": [
    "## Python lists\n",
    "\n",
    "[Lists](https://docs.python.org/3/tutorial/datastructures.html) in python can be written inside square brackets `[...]`, or can be converted from other objects with the `list()` function.  They can contain objects of different types.  Here we use the [`range()`](https://docs.python.org/3/library/stdtypes.html?#range) function:"
   ]
  },
  {
   "cell_type": "code",
   "execution_count": null,
   "metadata": {},
   "outputs": [],
   "source": [
    "my_list = [\"Hello\", 99, 0.5, print]\n",
    "print(my_list)\n",
    "\n",
    "my_range = list(range(10))\n",
    "print(my_range)"
   ]
  },
  {
   "cell_type": "markdown",
   "metadata": {},
   "source": [
    "We can access the elements of a list my indexing using square brackets.\n",
    "\n",
    "**IMPORTANT:** Python indices start at 0."
   ]
  },
  {
   "cell_type": "code",
   "execution_count": null,
   "metadata": {},
   "outputs": [],
   "source": [
    "my_list"
   ]
  },
  {
   "cell_type": "code",
   "execution_count": null,
   "metadata": {},
   "outputs": [],
   "source": [
    "my_list[1]"
   ]
  },
  {
   "cell_type": "markdown",
   "metadata": {},
   "source": [
    "We can access slices of a list in a similar way to MATLAB.\n",
    "\n",
    "**IMPORTANT**: The slices are *non-inclusive*, so the elements shown will stop before the last index."
   ]
  },
  {
   "cell_type": "code",
   "execution_count": null,
   "metadata": {},
   "outputs": [],
   "source": [
    "print(my_range[:4])\n",
    "print(my_range[7:9])"
   ]
  },
  {
   "cell_type": "markdown",
   "metadata": {},
   "source": [
    "We can ommit a side of the range to go to either end, and we can use negative indices to count from the end of the list."
   ]
  },
  {
   "cell_type": "code",
   "execution_count": null,
   "metadata": {},
   "outputs": [],
   "source": [
    "print(my_range[3:])\n",
    "print(my_range[:3])\n",
    "print(my_range[-5:-1])\n",
    "print(my_range[-1])"
   ]
  },
  {
   "cell_type": "markdown",
   "metadata": {},
   "source": [
    "Finally, we can define the step of the slicing.  This uses the notation `object[start:end:step]` (in contrast with MATLAB's `object(start:step:end)`:"
   ]
  },
  {
   "cell_type": "code",
   "execution_count": null,
   "metadata": {},
   "outputs": [],
   "source": [
    "print(my_range[1:8:3])\n",
    "print(my_range[::2])"
   ]
  },
  {
   "cell_type": "markdown",
   "metadata": {},
   "source": [
    "Lists are *mutable*, so the indices can also be used to change elements of a list."
   ]
  },
  {
   "cell_type": "code",
   "execution_count": null,
   "metadata": {},
   "outputs": [],
   "source": [
    "my_list[0] = \"World\"\n",
    "print(my_list)"
   ]
  },
  {
   "cell_type": "markdown",
   "metadata": {},
   "source": [
    "If we assign a list to a new variable, this is actually just a new name for the same list."
   ]
  },
  {
   "cell_type": "code",
   "execution_count": null,
   "metadata": {},
   "outputs": [],
   "source": [
    "same_list = my_list\n",
    "print(same_list)\n",
    "\n",
    "same_list[1] = 0\n",
    "print(same_list)\n",
    "print(my_list)"
   ]
  },
  {
   "cell_type": "markdown",
   "metadata": {},
   "source": [
    "If we want to create a separate copy of a list, we can use the `copy` method, which we access with a period."
   ]
  },
  {
   "cell_type": "code",
   "execution_count": null,
   "metadata": {},
   "outputs": [],
   "source": [
    "different_list = my_list.copy()\n",
    "different_list_2 = my_list[:]\n",
    "different_list[0] = \"foo\"\n",
    "\n",
    "print(my_list)\n",
    "print(different_list)"
   ]
  },
  {
   "cell_type": "markdown",
   "metadata": {},
   "source": [
    "## Getting help in python\n",
    "There is good [online documentation](https://docs.python.org/3/) for python.  We can also directly ask for help within the interpreter.  This can be pretty verbose, as it also gives us the help documents on all of the class methods."
   ]
  },
  {
   "cell_type": "code",
   "execution_count": null,
   "metadata": {},
   "outputs": [],
   "source": [
    "help(my_list)"
   ]
  },
  {
   "cell_type": "markdown",
   "metadata": {},
   "source": [
    "We can see what all the methods and properties of an object with [`dir()`](https://docs.python.org/3/library/functions.html#dir):"
   ]
  },
  {
   "cell_type": "code",
   "execution_count": null,
   "metadata": {},
   "outputs": [],
   "source": [
    "print(dir(my_list))"
   ]
  },
  {
   "cell_type": "markdown",
   "metadata": {},
   "source": [
    "Note the methods with two underscores are given the name *dunder methods*.  You can think of them as semi-protected methods that we mostly shouldn't be using.  As an example, the header of an object's help is in the `__doc__` dunder."
   ]
  },
  {
   "cell_type": "code",
   "execution_count": null,
   "metadata": {},
   "outputs": [],
   "source": [
    "print(my_list.__doc__)"
   ]
  },
  {
   "cell_type": "markdown",
   "metadata": {},
   "source": [
    "We can also use `dir` with no arguments to see what objects are available in our workspace, or what builtin methods are available."
   ]
  },
  {
   "cell_type": "code",
   "execution_count": null,
   "metadata": {},
   "outputs": [],
   "source": [
    "print(dir())"
   ]
  },
  {
   "cell_type": "code",
   "execution_count": null,
   "metadata": {},
   "outputs": [],
   "source": [
    "print(dir(__builtin__))"
   ]
  },
  {
   "cell_type": "markdown",
   "metadata": {},
   "source": [
    "## Loading packages\n",
    "\n",
    "We can import packages using the `import` keyword.  Here we use the [`math`](https://docs.python.org/3/library/math.html#module-math) package."
   ]
  },
  {
   "cell_type": "code",
   "execution_count": null,
   "metadata": {},
   "outputs": [],
   "source": [
    "import math\n",
    "print(dir(math))"
   ]
  },
  {
   "cell_type": "markdown",
   "metadata": {},
   "source": [
    "Objects can then be accessed with the dot notation."
   ]
  },
  {
   "cell_type": "code",
   "execution_count": null,
   "metadata": {},
   "outputs": [],
   "source": [
    "math.sqrt(2)"
   ]
  },
  {
   "cell_type": "markdown",
   "metadata": {},
   "source": [
    "If we want to import functions without having to use the module name, we can specify what functions to import into the workspace."
   ]
  },
  {
   "cell_type": "code",
   "execution_count": null,
   "metadata": {},
   "outputs": [],
   "source": [
    "from math import sqrt, pi, exp\n",
    "\n",
    "print(sqrt(2))\n",
    "print(pi)\n",
    "print(exp(1))"
   ]
  },
  {
   "cell_type": "markdown",
   "metadata": {},
   "source": [
    "We can also import everything from a module.  This is not recommended inside functions, as it can be hard to maintain."
   ]
  },
  {
   "cell_type": "code",
   "execution_count": null,
   "metadata": {},
   "outputs": [],
   "source": [
    "from math import *\n",
    "\n",
    "log(2)"
   ]
  },
  {
   "cell_type": "markdown",
   "metadata": {},
   "source": [
    "## Flow control\n",
    "In python, the start and end of blocks is determined by indentation."
   ]
  },
  {
   "cell_type": "code",
   "execution_count": null,
   "metadata": {},
   "outputs": [],
   "source": [
    "v = 12\n",
    "\n",
    "if (v>10):\n",
    "    w = v + 1\n",
    "    #print(w)\n",
    "    # This comment is in the if block\n",
    "    \n",
    "# This comment is outside the if block\n",
    "\n",
    "mylist = [1,2,4,8,16]\n",
    "for i in range(len(mylist)):\n",
    "    x = mylist[i]\n",
    "    print(x)\n",
    "\n",
    "mysum = 0\n",
    "for x in mylist:\n",
    "    mysum = mysum + x\n",
    "print(mysum)\n",
    "print(sum(mylist))"
   ]
  },
  {
   "cell_type": "code",
   "execution_count": null,
   "metadata": {},
   "outputs": [],
   "source": [
    "ii = 0\n",
    "\n",
    "while (ii<10):\n",
    "    print(ii)\n",
    "    ii = ii + 1"
   ]
  },
  {
   "cell_type": "markdown",
   "metadata": {},
   "source": [
    "## Python scripts\n",
    "\n",
    "We can write a set of python instructions into an external script, then run the script, for example, with `import`.  Have a look at the file [myscript.py](./myscript.py)."
   ]
  },
  {
   "cell_type": "code",
   "execution_count": null,
   "metadata": {},
   "outputs": [],
   "source": [
    "import myscript"
   ]
  },
  {
   "cell_type": "code",
   "execution_count": null,
   "metadata": {},
   "outputs": [],
   "source": [
    "print(dir(myscript))\n",
    "print(myscript.f(4))"
   ]
  },
  {
   "cell_type": "markdown",
   "metadata": {},
   "source": [
    "A script can also be run from the command line by passing it as an argument to `python`.\n",
    "\n",
    "```sh\n",
    "$ python myscript.py\n",
    "  Hello world\n",
    "```"
   ]
  },
  {
   "cell_type": "code",
   "execution_count": null,
   "metadata": {},
   "outputs": [],
   "source": [
    "for n in range(2,20):\n",
    "    for x in range(2, n):\n",
    "        if n%x==0:\n",
    "            print(\"{} has a factor of {}\".format(n, x))\n",
    "            break\n",
    "    else:\n",
    "        print(\"{} is prime\".format(n))"
   ]
  },
  {
   "cell_type": "code",
   "execution_count": null,
   "metadata": {},
   "outputs": [],
   "source": [
    "for n in range(2,20):\n",
    "    for x in range(2, n):\n",
    "        if n%x==0:\n",
    "            print(\"{} has a factor of {}\".format(n, x))\n",
    "            break\n",
    "        else:\n",
    "            print(\"{} is prime\".format(n))"
   ]
  },
  {
   "cell_type": "markdown",
   "metadata": {},
   "source": [
    "s.cook@seiche.com, [2019-03-14 Thu]"
   ]
  }
 ],
 "metadata": {
  "kernelspec": {
   "display_name": "Python 3",
   "language": "python",
   "name": "python3"
  },
  "language_info": {
   "codemirror_mode": {
    "name": "ipython",
    "version": 3
   },
   "file_extension": ".py",
   "mimetype": "text/x-python",
   "name": "python",
   "nbconvert_exporter": "python",
   "pygments_lexer": "ipython3",
   "version": "3.10.2"
  }
 },
 "nbformat": 4,
 "nbformat_minor": 2
}
